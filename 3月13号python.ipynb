{
 "cells": [
  {
   "attachments": {},
   "cell_type": "markdown",
   "metadata": {},
   "source": [
    "# python2023\n",
    "2\t\n",
    "3\t#### 介绍\n",
    "4\t这是我们2023未来学院的文档\n",
    "5\t\n",
    "6\t#### 软件架构\n",
    "7\t软件架构说明\n",
    "8\t\n",
    "9\t\n",
    "10\t#### 安装教程\n",
    "11\t\n",
    "12\t1.  xxxx\n",
    "13\t2.  xxxx\n",
    "14\t3.  xxxx\n",
    "15\t\n",
    "16\t#### 使用说明\n",
    "17\t\n",
    "18\t1.  xxxx\n",
    "19\t2.  xxxx\n",
    "20\t3.  xxxx\n",
    "21\t\n",
    "22\t#### 参与贡献\n",
    "23\t\n",
    "24\t1.  Fork 本仓库\n",
    "25\t2.  新建 Feat_xxx 分支\n",
    "26\t3.  提交代码\n",
    "27\t4.  新建 Pull Request\n",
    "28\t\n",
    "29\t\n",
    "30\t#### 特技\n",
    "31\t\n",
    "32\t1.  使用 Readme\\_XXX.md 来支持不同的语言，例如 Readme\\_en.md, Readme\\_zh.md\n",
    "33\t2.  Gitee 官方博客 [blog.gitee.com](https://blog.gitee.com)\n",
    "34\t3.  你可以 [https://gitee.com/explore](https://gitee.com/explore) 这个地址来了解 Gitee 上的优秀开源项目\n",
    "35\t4.  [GVP](https://gitee.com/gvp) 全称是 Gitee 最有价值开源项目，是综合评定出的优秀开源项目\n",
    "36\t5.  Gitee 官方提供的使用手册 [https://gitee.com/help](https://gitee.com/help)\n",
    "37\t6.  Gitee 封面人物是一档用来展示 Gitee 会员风采的栏目 [https://gitee.com/gitee-stars/](https://gitee.com/gitee-stars/)"
   ]
  },
  {
   "cell_type": "code",
   "execution_count": null,
   "metadata": {
    "vscode": {
     "languageId": "plaintext"
    }
   },
   "outputs": [],
   "source": [
    "z=2+5j\n",
    "type(z)\n",
    "print(z.conjugate())"
   ]
  },
  {
   "cell_type": "code",
   "execution_count": null,
   "metadata": {
    "vscode": {
     "languageId": "plaintext"
    }
   },
   "outputs": [],
   "source": [
    "counter = 100       # 整型变量\n",
    "miles = 1000.0      # 浮点型变量\n",
    "name = \"ru'n'oob\"   # 字符串\n",
    "name2='xauat\"edu\"'\n",
    "name3='''a \n",
    "b\n",
    " c '''\n",
    "list1  = [1, 2, 3, 4, 5] # 列表\n",
    "tup1 = (1, 2, 3, 4, 5)  # 元 组\n",
    "dict = {'name': '张三', 'age': 15, 'Mail': 'zhs@163.com'} # 字典\n",
    "basket = {'apple', 'orange', 'apple', 'pear', 'orange', 'banana'} # 集合\n",
    "print(counter)\n",
    "print(miles)\n",
    "print(name)\n",
    "print(basket)"
   ]
  },
  {
   "cell_type": "code",
   "execution_count": null,
   "metadata": {
    "vscode": {
     "languageId": "plaintext"
    }
   },
   "outputs": [],
   "source": [
    "a = b = 1\n",
    "c=a+b\n",
    "print(\"a+b=\", c)\n",
    "c=a*b\n",
    "print(\"a*b=\", c)\n",
    "a=8\n",
    "b=3\n",
    "c=a/b\n",
    "print(\"a/b=\", c)\n",
    "c=a//b\n",
    "print(\"a//b=\", c)\n",
    "c = a%b\n",
    "print(\"a%b =\", c)\n",
    "c = a ** b\n",
    "print(\"a**b=\", c)"
   ]
  }
 ],
 "metadata": {
  "language_info": {
   "name": "python"
  },
  "orig_nbformat": 4
 },
 "nbformat": 4,
 "nbformat_minor": 2
}
